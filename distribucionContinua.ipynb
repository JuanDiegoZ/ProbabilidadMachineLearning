{
 "cells": [
  {
   "attachments": {},
   "cell_type": "markdown",
   "metadata": {},
   "source": [
    "## Distribucion normal.(gaussiana)\n",
    "\n",
    "![Alt text](https://vscode-remote%2Bwsl-002bubuntu-002d22-002e04.vscode-resource.vscode-cdn.net/home/jann/Platzi/DataScience/CursoProbabilidad/img/2023-02-28_22h05_57.png?version%3D1677639968768)\n"
   ]
  }
 ],
 "metadata": {
  "kernelspec": {
   "display_name": "Python 3",
   "language": "python",
   "name": "python3"
  },
  "language_info": {
   "name": "python",
   "version": "3.10.6"
  },
  "orig_nbformat": 4,
  "vscode": {
   "interpreter": {
    "hash": "916dbcbb3f70747c44a77c7bcd40155683ae19c65e1c03b4aa3499c5328201f1"
   }
  }
 },
 "nbformat": 4,
 "nbformat_minor": 2
}
