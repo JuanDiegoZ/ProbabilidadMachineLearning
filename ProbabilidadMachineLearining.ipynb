{
 "cells": [
  {
   "attachments": {},
   "cell_type": "markdown",
   "metadata": {},
   "source": [
    "# Fuentes de incertidumbre.\n",
    "\n",
    "- Datos.\n",
    "- Atributos del modelo.\n",
    "- Arquitectura del modelo.\n",
    "  "
   ]
  },
  {
   "attachments": {},
   "cell_type": "markdown",
   "metadata": {},
   "source": [
    "![Alt text](img/2023-02-23_22h15_08.png)\n",
    "![Alt text](https://vscode-remote%2Bwsl-002bubuntu-002d22-002e04.vscode-resource.vscode-cdn.net/home/jann/Platzi/DataScience/CursoProbabilidad/img/2023-02-23_22h16_05.png?version%3D1677208577888)"
   ]
  },
  {
   "attachments": {},
   "cell_type": "markdown",
   "metadata": {},
   "source": [
    "![Alt text](https://vscode-remote%2Bwsl-002bubuntu-002d22-002e04.vscode-resource.vscode-cdn.net/home/jann/Platzi/DataScience/CursoProbabilidad/img/2023-02-23_22h18_20.png?version%3D1677208714849)"
   ]
  }
 ],
 "metadata": {
  "kernelspec": {
   "display_name": "Python 3",
   "language": "python",
   "name": "python3"
  },
  "language_info": {
   "name": "python",
   "version": "3.10.6"
  },
  "orig_nbformat": 4,
  "vscode": {
   "interpreter": {
    "hash": "916dbcbb3f70747c44a77c7bcd40155683ae19c65e1c03b4aa3499c5328201f1"
   }
  }
 },
 "nbformat": 4,
 "nbformat_minor": 2
}
