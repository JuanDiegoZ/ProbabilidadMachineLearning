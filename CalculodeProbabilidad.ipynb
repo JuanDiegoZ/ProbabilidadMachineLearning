{
 "cells": [
  {
   "attachments": {},
   "cell_type": "markdown",
   "metadata": {},
   "source": [
    "Ejemplo Calculando Probabilidad.\n",
    "\n",
    "A = {el resultado de lanzar un dado es 4}\n",
    "\n",
    "B ={el resultado de lanzar un dado es par}\n",
    "\n",
    "C={el resultado de lanzar un dado es impar}\n"
   ]
  },
  {
   "attachments": {},
   "cell_type": "markdown",
   "metadata": {},
   "source": [
    "P(A) = 1/6\n",
    "\n",
    "A Y B ESTAN CORRELACIONADOS.\n",
    "\n",
    "P(A | B) = 1/3\n",
    "\n",
    "A Y C ESTAN NEGATIVAMENTE CORRELACIONADOS.\n",
    "P(A | C) = 0\n",
    "\n",
    "excluyentes =! independientes."
   ]
  },
  {
   "attachments": {},
   "cell_type": "markdown",
   "metadata": {},
   "source": [
    "![Alt text](img/2023-02-27_21h02_14.png)"
   ]
  },
  {
   "attachments": {},
   "cell_type": "markdown",
   "metadata": {},
   "source": [
    "B = {5,6,7,8}\n",
    "A y B Correlacion negativa.\n",
    "Probabilidad que gane el jugador 1:\n",
    "P(1) = 4/8\n",
    "\n",
    "Probabilidad que gane el jugaro 1 sabiendo que cayo en B:\n",
    "P(1 | B) = 0\n",
    "\n",
    "B = {4,5,6,7,8}\n",
    "\n",
    "p(1 | B) =  1/4 = 25%\n",
    "\n",
    "B = {2,3,6,7}\n",
    "\n",
    "P(A | B) = 2/4 = 50%\n",
    "\n",
    "\n",
    "\n",
    "\n"
   ]
  }
 ],
 "metadata": {
  "kernelspec": {
   "display_name": "Python 3",
   "language": "python",
   "name": "python3"
  },
  "language_info": {
   "name": "python",
   "version": "3.10.6"
  },
  "orig_nbformat": 4,
  "vscode": {
   "interpreter": {
    "hash": "916dbcbb3f70747c44a77c7bcd40155683ae19c65e1c03b4aa3499c5328201f1"
   }
  }
 },
 "nbformat": 4,
 "nbformat_minor": 2
}
